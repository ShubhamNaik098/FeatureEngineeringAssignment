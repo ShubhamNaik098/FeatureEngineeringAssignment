{
  "nbformat": 4,
  "nbformat_minor": 0,
  "metadata": {
    "colab": {
      "provenance": []
    },
    "kernelspec": {
      "name": "python3",
      "display_name": "Python 3"
    },
    "language_info": {
      "name": "python"
    }
  },
  "cells": [
    {
      "cell_type": "markdown",
      "source": [
        "**Theoratical Questions**"
      ],
      "metadata": {
        "id": "3jNVc1szbaM3"
      }
    },
    {
      "cell_type": "markdown",
      "source": [
        "**Q1.What is a parameter?**"
      ],
      "metadata": {
        "id": "swbpWt4gbf1B"
      }
    },
    {
      "cell_type": "markdown",
      "source": [
        "Ans.In machine learning, a parameter refers to the internal variables of a model that are learned from the training data and define the model’s behavior."
      ],
      "metadata": {
        "id": "udU4V620bi4E"
      }
    },
    {
      "cell_type": "markdown",
      "source": [
        "**Q2.What is correlation?\n",
        "What does negative correlation mean?**"
      ],
      "metadata": {
        "id": "PfqQYsMrbt0R"
      }
    },
    {
      "cell_type": "markdown",
      "source": [
        "Ans.Correlation measures the strength and direction of a linear relationship between two variables. It tells us how much one variable tends to change when the other changes.\n",
        "\n",
        "What Does Negative Correlation Mean?\n",
        "\n",
        "A negative correlation means that as one variable increases, the other variable tends to decrease, and vice versa."
      ],
      "metadata": {
        "id": "B_Sgnb4obzOM"
      }
    },
    {
      "cell_type": "markdown",
      "source": [
        "**Q3.Define Machine Learning. What are the main components in Machine Learning?**"
      ],
      "metadata": {
        "id": "92jDOjH-b6lD"
      }
    },
    {
      "cell_type": "markdown",
      "source": [
        "Ans.Machine Learning (ML) is a branch of artificial intelligence (AI) that enables computers to learn patterns from data and make decisions or predictions without being explicitly programmed for specific tasks.\n",
        "\n",
        "Main Components of Machine Learning\n",
        "1.Data\n",
        "\n",
        "    The foundation of ML. It can be structured or unstructured and is used to train and evaluate models.\n",
        "\n",
        "2.Features (Input Variables)\n",
        "\n",
        "    These are measurable properties or attributes from the data that the model uses to learn patterns.\n",
        "\n",
        "3.Model\n",
        "\n",
        "    A mathematical representation or algorithm that maps input features to outputs (predictions or classifications).\n",
        "\n",
        "4.Parameters\n",
        "\n",
        "    Internal variables within the model that are learned from the data during training (e.g., weights in neural networks).\n",
        "\n",
        "5.Learning Algorithm\n",
        "    \n",
        "    The method or process used to train the model by optimizing parameters to reduce prediction error (e.g., gradient descent)."
      ],
      "metadata": {
        "id": "Em-145SNcKKa"
      }
    },
    {
      "cell_type": "markdown",
      "source": [
        "**Q4.How does loss value help in determining whether the model is good or not?**\n"
      ],
      "metadata": {
        "id": "r6BJocRtcjh4"
      }
    },
    {
      "cell_type": "markdown",
      "source": [
        "Ans. The loss is a numerical measure of how well (or poorly) the model’s predictions match the true target values on the training (or validation) data.\n",
        "\n",
        "How Does Loss Help Determine Model Quality?\n",
        "\n",
        "    Lower loss means the model’s predictions are closer to the true values — so better performance.\n",
        "\n",
        "    Higher loss indicates poor predictions and that the model is not capturing the data well.\n",
        "\n"
      ],
      "metadata": {
        "id": "x9jg3oo_ctSf"
      }
    },
    {
      "cell_type": "markdown",
      "source": [
        "**Q5.What are continuous and categorical variables?**"
      ],
      "metadata": {
        "id": "HVfLLHWadBbW"
      }
    },
    {
      "cell_type": "markdown",
      "source": [
        "Ans.Continuous Variables: Variables that can take any numerical value within a range (often measured quantities).\n",
        "\n",
        "Categorical Variables: Variables that represent categories or groups and take on a limited, fixed number of possible values."
      ],
      "metadata": {
        "id": "BRtQCHridGoC"
      }
    },
    {
      "cell_type": "markdown",
      "source": [
        "**Q6.How do we handle categorical variables in Machine Learning? What are the common techniques?**"
      ],
      "metadata": {
        "id": "46Kw9iOZdQY6"
      }
    },
    {
      "cell_type": "markdown",
      "source": [
        "Ans.Handling categorical variables is essential since most ML algorithms require numerical input. Here are the common techniques to convert or encode categorical variables into a suitable numeric format:\n",
        "\n",
        "Common Techniques to Handle Categorical Variables in Machine Learning\n",
        "\n",
        "1.Label Encoding\n",
        "\n",
        "    Assigns each category a unique integer label.\n",
        "\n",
        "    Example: {'Red': 0, 'Green': 1, 'Blue': 2}\n",
        "\n",
        "2.Binary Encoding\n",
        "\n",
        "    Converts categories into binary code and splits bits into separate columns.\n",
        "\n",
        "    More memory-efficient than one-hot for high-cardinality data.\n",
        "\n",
        "3.Target Encoding (Mean Encoding)\n",
        "\n",
        "    Replaces each category with the mean of the target variable for that category.\n",
        "\n",
        "    Useful for high-cardinality categorical variables.\n",
        "\n",
        "    Caution: Can lead to data leakage if not done carefully with proper cross-validation.\n",
        "\n",
        "4.Frequency Encoding\n",
        "\n",
        "    Replace categories with their frequency/count in the dataset.\n",
        "\n",
        "    Simple and can be useful if category frequency is informative.\n",
        "\n",
        "5.Embedding\n",
        "\n",
        "    Learned dense vector representations of categories, mainly used in deep learning models.\n",
        "\n",
        "    Captures relationships between categories better than simple encodings."
      ],
      "metadata": {
        "id": "smRwJ9IXeKfc"
      }
    },
    {
      "cell_type": "markdown",
      "source": [
        "**Q7.What do you mean by training and testing a dataset?**"
      ],
      "metadata": {
        "id": "zENpP-qMmA_U"
      }
    },
    {
      "cell_type": "markdown",
      "source": [
        "Ans.In machine learning, training and testing datasets are used to develop and evaluate a model.\n",
        "\n",
        "1.Training Dataset\n",
        "\n",
        "    The training set is the portion of your data used to train the model.\n",
        "\n",
        "    The model learns patterns from this data by adjusting its internal parameters (like weights).\n",
        "\n",
        "    Think of it as the “study material” for the model.\n",
        "\n",
        "2.Testing Dataset\n",
        "\n",
        "    The testing set is used to evaluate the performance of the model after training.\n",
        "\n",
        "    It contains new, unseen data that was not used during training.\n",
        "\n",
        "    Helps determine how well the model generalizes to real-world data."
      ],
      "metadata": {
        "id": "9deFkyZ1mFd4"
      }
    },
    {
      "cell_type": "markdown",
      "source": [
        "**Q8.What is sklearn.preprocessing?**"
      ],
      "metadata": {
        "id": "_deOtz_YmbQO"
      }
    },
    {
      "cell_type": "markdown",
      "source": [
        "Ans.sklearn.preprocessing is a module in the scikit-learn library used to prepare and transform data before feeding it into a machine learning model."
      ],
      "metadata": {
        "id": "rkHUqyi1mgeL"
      }
    },
    {
      "cell_type": "markdown",
      "source": [
        "**Q9.What is a Test set?**"
      ],
      "metadata": {
        "id": "isRj-ncXmpY9"
      }
    },
    {
      "cell_type": "markdown",
      "source": [
        "Ans.A test set is a portion of your dataset that is set aside after training to evaluate the final performance of a machine learning model.\n",
        "\n",
        "Purpose of a Test Set:\n",
        "\n",
        "    To assess how well the trained model generalizes to new, unseen data.\n",
        "\n",
        "    It acts as a real-world check to avoid overfitting."
      ],
      "metadata": {
        "id": "6Q6Eq9hzmvHH"
      }
    },
    {
      "cell_type": "markdown",
      "source": [
        "**Q10.How do we split data for model fitting (training and testing) in Python?\n",
        "How do you approach a Machine Learning problem?**"
      ],
      "metadata": {
        "id": "PT-ua-Zzm8nM"
      }
    },
    {
      "cell_type": "markdown",
      "source": [
        "Ans."
      ],
      "metadata": {
        "id": "Sf0-Z8z0nEU-"
      }
    },
    {
      "cell_type": "markdown",
      "source": [
        "**Q11.Why do we have to perform EDA before fitting a model to the data?**"
      ],
      "metadata": {
        "id": "x7ONgmW7nFPo"
      }
    },
    {
      "cell_type": "markdown",
      "source": [
        "Ans.Key Reasons for Performing EDA:\n",
        "\n",
        "1.Understand the Data\n",
        "    Helps you know the structure, types (categorical, numerical), and distributions.\n",
        "\n",
        "    Reveals the number of features, classes, and samples.\n",
        "\n",
        "2.Detect Missing Values\n",
        "\n",
        "    Missing data can lead to biased or invalid results.\n",
        "\n",
        "    EDA helps identify which features need imputation or removal.\n",
        "\n",
        "3.Identify Outliers and Anomalies\n",
        "\n",
        "    Outliers can distort model performance.\n",
        "\n",
        "    EDA can reveal unexpected spikes, gaps, or errors in the data.\n",
        "\n"
      ],
      "metadata": {
        "id": "aQGaZXVknJwr"
      }
    },
    {
      "cell_type": "markdown",
      "source": [
        "**Q12.What is correlation?**"
      ],
      "metadata": {
        "id": "2wEW52JwnhI6"
      }
    },
    {
      "cell_type": "markdown",
      "source": [
        "Ans.Correlation is a statistical measure that describes the strength and direction of a relationship between two variables."
      ],
      "metadata": {
        "id": "fX-nZos8nkd0"
      }
    },
    {
      "cell_type": "markdown",
      "source": [
        "**Q13.What does negative correlation mean?**"
      ],
      "metadata": {
        "id": "9Rv3q_Hdnvjh"
      }
    },
    {
      "cell_type": "markdown",
      "source": [
        "Ans.Negative correlation means that as one variable increases, the other variable decreases, and vice versa."
      ],
      "metadata": {
        "id": "rb2udB6bnz9o"
      }
    },
    {
      "cell_type": "markdown",
      "source": [
        "**Q14.How can you find correlation between variables in Python?**"
      ],
      "metadata": {
        "id": "7eTxIggbn-Sc"
      }
    },
    {
      "cell_type": "markdown",
      "source": [
        "Ans.You can find correlation between variables in Python using libraries like Pandas and Seaborn. Here are the most common ways:\n",
        "\n",
        "1.Using pandas.corr() Method: This method computes the Pearson correlation coefficient by default.\n",
        "\n",
        "2.Using seaborn.heatmap() to Visualize Correlation:A heatmap helps visually interpret correlation values.\n",
        "\n",
        "3.Correlation Between Two Specific Variables:"
      ],
      "metadata": {
        "id": "4poMALjfoB8I"
      }
    },
    {
      "cell_type": "markdown",
      "source": [
        "**Q15.What is causation? Explain difference between correlation and causation with an example.**"
      ],
      "metadata": {
        "id": "zsgW9w9goGOG"
      }
    },
    {
      "cell_type": "markdown",
      "source": [
        "Ans.:-\n",
        "\n",
        "Causation\n",
        "\n",
        "    Definition: Causation means that one event directly causes another to happen.It implies a cause-and-effect relationship — changes in one variable produce changes in another.\n",
        "\n",
        "    Direction:Has a clear direction (X → Y)\n",
        "\n",
        "    Implied Effect:Implies cause-effect\n",
        "\n",
        "Correlation\n",
        "\n",
        "    Definition: A relationship where two variables move together (positively or negatively)\n",
        "\n",
        "    Direction:Can go both ways (X ↔ Y)\n",
        "\n",
        "    Implied Effect:No cause-effect implied"
      ],
      "metadata": {
        "id": "tIMzrEizoY-O"
      }
    },
    {
      "cell_type": "markdown",
      "source": [
        "**Q16.What is an Optimizer? What are different types of optimizers? Explain each with an example.**"
      ],
      "metadata": {
        "id": "isEu2GmtpyN0"
      }
    },
    {
      "cell_type": "markdown",
      "source": [
        "Ans.An optimizer is an algorithm that adjusts the weights of a model to minimize the loss function during training. It guides how the model learns from data by improving its predictions with each training step.\n",
        "\n",
        "Types of Optimizers:\n",
        "\n",
        "1.Gradient Descent (GD)\n",
        "\n",
        "    Calculates the gradient of the entire dataset before updating weights.\n",
        "\n",
        "    Slow and memory-intensive for large datasets.\n",
        "\n",
        "2.Stochastic Gradient Descent (SGD)\n",
        "\n",
        "    Updates weights using one random sample at a time.\n",
        "\n",
        "    Faster but has noisy updates.\n",
        "\n",
        "3.Mini-Batch Gradient Descent\n",
        "\n",
        "    Compromise between GD and SGD.\n",
        "\n",
        "    Updates weights using small batches of data.\n",
        "\n",
        "    Common in practice.\n",
        "\n",
        "4.Momentum\n",
        "\n",
        "    Adds a term that considers the previous update direction to reduce oscillation and speed up convergence.\n",
        "\n",
        "5.RMSprop (Root Mean Square Propagation)\n",
        "\n",
        "    Adapts the learning rate for each weight using exponentially decaying average of past squared gradients.\n"
      ],
      "metadata": {
        "id": "fawWoAU9p2Qo"
      }
    },
    {
      "cell_type": "markdown",
      "source": [
        "**Q17.What is sklearn.linear_model ?**"
      ],
      "metadata": {
        "id": "YKt4w7WMp6e1"
      }
    },
    {
      "cell_type": "markdown",
      "source": [
        "Ans.sklearn.linear_model is a module in Scikit-learn that provides linear models for regression and classification tasks in machine learning."
      ],
      "metadata": {
        "id": "r3kztmlYp9Rc"
      }
    },
    {
      "cell_type": "markdown",
      "source": [
        "**Q18.What does model.fit() do? What arguments must be given?**"
      ],
      "metadata": {
        "id": "zRfVcbbIq9KW"
      }
    },
    {
      "cell_type": "markdown",
      "source": [
        "Ans.The fit() method in machine learning libraries like scikit-learn is used to train or fit a model on a given dataset. It learns the relationship between the input features and the target output by adjusting the model’s parameters.\n",
        "\n",
        "Arguments:\n",
        "\n",
        "X\t= Input features — usually a 2D array or DataFrame of shape (n_samples, n_features)\n",
        "\n",
        "y\t= Target variable — usually a 1D array or Series of shape (n_samples,)"
      ],
      "metadata": {
        "id": "cYckZPwErBDe"
      }
    },
    {
      "cell_type": "markdown",
      "source": [
        "**Q19.What does model.predict() do? What arguments must be given?**"
      ],
      "metadata": {
        "id": "jvanQwPOrUXm"
      }
    },
    {
      "cell_type": "markdown",
      "source": [
        "Ans.The predict() method uses the trained model to make predictions on new data.\n",
        "\n",
        "    After you train a model with .fit(), you use .predict() to estimate the target values for unseen input data.\n",
        "\n",
        "    It applies the learned relationship (parameters) to the input features and outputs predicted values.\n",
        "\n",
        "Arguments:\n",
        "\n",
        "X_new\t= New input features — a 2D array or DataFrame of shape (n_samples, n_features) on which you want predictions\n",
        "\n"
      ],
      "metadata": {
        "id": "h8Th74WNrYK0"
      }
    },
    {
      "cell_type": "markdown",
      "source": [
        "**Q20.What are continuous and categorical variables?**"
      ],
      "metadata": {
        "id": "2yBFlHFIrn_4"
      }
    },
    {
      "cell_type": "markdown",
      "source": [
        "Ans.\n",
        "\n",
        "1.Continuous Variables\n",
        "\n",
        "    These are numerical variables that can take any value within a range.\n",
        "\n",
        "    They are measured, not counted.\n",
        "\n",
        "    Values are usually decimals or fractions, and the data can be infinitely precise.\n",
        "\n",
        "2.Categorical Variables\n",
        "\n",
        "    These represent categories or groups.\n",
        "\n",
        "    The values are discrete and usually labels or names.\n",
        "\n",
        "    They can be nominal (no order) or ordinal (with a meaningful order)."
      ],
      "metadata": {
        "id": "A_cZMGeVr5nc"
      }
    },
    {
      "cell_type": "markdown",
      "source": [
        "**Q21.What is feature scaling? How does it help in Machine Learning?**"
      ],
      "metadata": {
        "id": "m2DozPH_sLCG"
      }
    },
    {
      "cell_type": "markdown",
      "source": [
        "Ans.Feature scaling is the process of normalizing or standardizing the range of independent variables (features) in your dataset.\n",
        "\n",
        "Why is Feature Scaling Important in Machine Learning?\n",
        "\n",
        "1.Improves Convergence Speed:\n",
        "    Algorithms like Gradient Descent converge faster when features are on similar scales.\n",
        "\n",
        "2.Avoids Dominance of Large Scale Features:\n",
        "\n",
        "    Features with larger scales can dominate the learning process and bias the model.\n",
        "\n",
        "3.Required for Distance-based Algorithms:\n",
        "\n",
        "    Algorithms like K-Nearest Neighbors (KNN), Support Vector Machines (SVM), and K-Means Clustering rely on distance metrics — feature scaling ensures fair contribution from each feature.\n",
        "\n",
        "4.Prevents Numerical Instability:\n",
        "\n",
        "    Scaling helps avoid numerical overflow or underflow issues during calculations."
      ],
      "metadata": {
        "id": "Uzt1kAMTsP7e"
      }
    },
    {
      "cell_type": "markdown",
      "source": [
        "**Q22.How do we perform scaling in Python?**"
      ],
      "metadata": {
        "id": "zbfObfDysiQI"
      }
    },
    {
      "cell_type": "markdown",
      "source": [
        "Ans.You can easily perform feature scaling using scikit-learn's preprocessing module. The two most common methods are:\n",
        "\n",
        "1.Standardization (Z-score Scaling)\n",
        "\n",
        "    Scales data to have mean = 0 and standard deviation = 1.\n",
        "\n",
        "2.Min-Max Scaling (Normalization)\n",
        "\n",
        "    Scales data to a fixed range, usually 0 to 1."
      ],
      "metadata": {
        "id": "L6Kias2ZsoHh"
      }
    },
    {
      "cell_type": "markdown",
      "source": [
        "**Q23.What is sklearn.preprocessing?**"
      ],
      "metadata": {
        "id": "iIweUKTYs4RB"
      }
    },
    {
      "cell_type": "markdown",
      "source": [
        "Ans.sklearn.preprocessing is a module in Scikit-learn that provides a variety of tools and utilities to preprocess and transform data before feeding it into machine learning models."
      ],
      "metadata": {
        "id": "NfwuliYms8cS"
      }
    },
    {
      "cell_type": "markdown",
      "source": [
        "**Q24.How do we split data for model fitting (training and testing) in Python?**"
      ],
      "metadata": {
        "id": "0b_cCnv4tC8b"
      }
    },
    {
      "cell_type": "markdown",
      "source": [
        "Ans."
      ],
      "metadata": {
        "id": "M90Pxsd-tHf1"
      }
    },
    {
      "cell_type": "markdown",
      "source": [
        "**Q25.Explain data encoding?**"
      ],
      "metadata": {
        "id": "3AnUYcqitINR"
      }
    },
    {
      "cell_type": "markdown",
      "source": [
        "Ans.Data encoding is the process of converting data from one format into another, usually to make it suitable for machine learning algorithms.\n",
        "\n",
        "In the context of machine learning, data encoding typically refers to converting categorical (non-numeric) variables into numeric formats so algorithms can process them effectively."
      ],
      "metadata": {
        "id": "qI7tVCDjtLl4"
      }
    }
  ]
}